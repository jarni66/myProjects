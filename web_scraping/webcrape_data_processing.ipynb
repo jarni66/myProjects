{
 "cells": [
  {
   "cell_type": "code",
   "execution_count": 1,
   "id": "cc07b5fa",
   "metadata": {},
   "outputs": [],
   "source": [
    "import pandas as pd\n",
    "\n",
    "from ast import literal_eval #to convert list red as string back to list"
   ]
  },
  {
   "cell_type": "code",
   "execution_count": 40,
   "id": "d7a86fb8",
   "metadata": {
    "scrolled": true
   },
   "outputs": [
    {
     "data": {
      "text/html": [
       "<div>\n",
       "<style scoped>\n",
       "    .dataframe tbody tr th:only-of-type {\n",
       "        vertical-align: middle;\n",
       "    }\n",
       "\n",
       "    .dataframe tbody tr th {\n",
       "        vertical-align: top;\n",
       "    }\n",
       "\n",
       "    .dataframe thead th {\n",
       "        text-align: right;\n",
       "    }\n",
       "</style>\n",
       "<table border=\"1\" class=\"dataframe\">\n",
       "  <thead>\n",
       "    <tr style=\"text-align: right;\">\n",
       "      <th></th>\n",
       "      <th>job_title</th>\n",
       "      <th>job_company</th>\n",
       "      <th>job_details</th>\n",
       "    </tr>\n",
       "  </thead>\n",
       "  <tbody>\n",
       "    <tr>\n",
       "      <th>0</th>\n",
       "      <td>IT Data Engineer / Data Analytics</td>\n",
       "      <td>PT Kawan Lama Sejahtera</td>\n",
       "      <td>['Jakarta', 'IDR\\xa010.000.000 - 20.000.000', ...</td>\n",
       "    </tr>\n",
       "    <tr>\n",
       "      <th>1</th>\n",
       "      <td>Data Engineer</td>\n",
       "      <td>Mapan - PT Ruma (Rekan Usaha Mikro Anda)</td>\n",
       "      <td>['SCBD, Jakarta', '1 – 3 tahun']</td>\n",
       "    </tr>\n",
       "    <tr>\n",
       "      <th>2</th>\n",
       "      <td>Business Analyst (Afees)</td>\n",
       "      <td>AIA Singapore Pte Ltd</td>\n",
       "      <td>['Batam', '3 – 5 tahun']</td>\n",
       "    </tr>\n",
       "    <tr>\n",
       "      <th>3</th>\n",
       "      <td>e-Commerce Specialist (Remote)</td>\n",
       "      <td>Etaily</td>\n",
       "      <td>['Jakarta', 'Login to view estimated salary by...</td>\n",
       "    </tr>\n",
       "    <tr>\n",
       "      <th>4</th>\n",
       "      <td>Digital Marketing Manager (Remote)</td>\n",
       "      <td>Hepelle</td>\n",
       "      <td>['Jakarta', 'Login to view estimated salary by...</td>\n",
       "    </tr>\n",
       "  </tbody>\n",
       "</table>\n",
       "</div>"
      ],
      "text/plain": [
       "                            job_title  \\\n",
       "0   IT Data Engineer / Data Analytics   \n",
       "1                       Data Engineer   \n",
       "2            Business Analyst (Afees)   \n",
       "3      e-Commerce Specialist (Remote)   \n",
       "4  Digital Marketing Manager (Remote)   \n",
       "\n",
       "                                job_company  \\\n",
       "0                   PT Kawan Lama Sejahtera   \n",
       "1  Mapan - PT Ruma (Rekan Usaha Mikro Anda)   \n",
       "2                     AIA Singapore Pte Ltd   \n",
       "3                                    Etaily   \n",
       "4                                   Hepelle   \n",
       "\n",
       "                                         job_details  \n",
       "0  ['Jakarta', 'IDR\\xa010.000.000 - 20.000.000', ...  \n",
       "1                   ['SCBD, Jakarta', '1 – 3 tahun']  \n",
       "2                           ['Batam', '3 – 5 tahun']  \n",
       "3  ['Jakarta', 'Login to view estimated salary by...  \n",
       "4  ['Jakarta', 'Login to view estimated salary by...  "
      ]
     },
     "execution_count": 40,
     "metadata": {},
     "output_type": "execute_result"
    }
   ],
   "source": [
    "data = pd.read_csv('dataset.csv')\n",
    "data = data.loc[:,['job_title', 'job_company', 'job_details']]\n",
    "data.head()"
   ]
  },
  {
   "cell_type": "markdown",
   "id": "7238ffd8",
   "metadata": {},
   "source": [
    "# DATA CLEANING"
   ]
  },
  {
   "cell_type": "code",
   "execution_count": 3,
   "id": "22f24aee",
   "metadata": {},
   "outputs": [],
   "source": [
    "data['job_details'] = data['job_details'].map(lambda x: literal_eval(x)) #convert list red as string back to list"
   ]
  },
  {
   "cell_type": "code",
   "execution_count": 4,
   "id": "a1910bad",
   "metadata": {},
   "outputs": [],
   "source": [
    "#splitting job_details\n",
    "data['location'] = data['job_details'].map(lambda x: x[0])\n",
    "data['experience'] = data['job_details'].map(lambda x: x[-1])\n",
    "data['salary'] = data['job_details'].map(lambda x: x[1] if len(x)==3 else '')"
   ]
  },
  {
   "cell_type": "code",
   "execution_count": 5,
   "id": "8241969e",
   "metadata": {},
   "outputs": [],
   "source": [
    "#Cleaning location to specific City\n",
    "data['location'] = data['location'].map(lambda x: x.split(','))\n",
    "data['location'] = data['location'].map(lambda x: x[1] if len(x)==2 else x[0])"
   ]
  },
  {
   "cell_type": "code",
   "execution_count": 6,
   "id": "9664e061",
   "metadata": {
    "scrolled": true
   },
   "outputs": [],
   "source": [
    "#split salary to min and max\n",
    "data['salary'] = data['salary'].map(lambda x: x.split())\n",
    "data['min_salary'] = data['salary'].map(lambda x: x[1] if len(x)>2 else '')\n",
    "data['max_salary'] = data['salary'].map(lambda x: x[-1] if len(x)>2 else '')"
   ]
  },
  {
   "cell_type": "code",
   "execution_count": 7,
   "id": "ebf888a7",
   "metadata": {},
   "outputs": [],
   "source": [
    "#converting min and max salary to int\n",
    "data['min_salary'] = data['min_salary'].map(lambda x: x.replace('.',''))\n",
    "data['max_salary'] = data['max_salary'].map(lambda x: x.replace('.',''))\n",
    "data['min_salary'] = data['min_salary'].map(lambda x: int(x) if '0' in x else 0)\n",
    "data['max_salary'] = data['max_salary'].map(lambda x: int(x) if '0' in x else 0)"
   ]
  },
  {
   "cell_type": "code",
   "execution_count": 9,
   "id": "a0eb5dda",
   "metadata": {},
   "outputs": [],
   "source": [
    "#filter irrelevant salary\n",
    "#there is salary data with USD currency\n",
    "data = data[(data['min_salary']>100000) | (data['min_salary']==0)]"
   ]
  },
  {
   "cell_type": "code",
   "execution_count": 10,
   "id": "cc300f7b",
   "metadata": {},
   "outputs": [
    {
     "data": {
      "text/plain": [
       "(449, 8)"
      ]
     },
     "execution_count": 10,
     "metadata": {},
     "output_type": "execute_result"
    }
   ],
   "source": [
    "data.shape"
   ]
  },
  {
   "cell_type": "code",
   "execution_count": 11,
   "id": "cc27a204",
   "metadata": {},
   "outputs": [],
   "source": [
    "#convert job_title to lowercase, for easy regex\n",
    "data['job_title'] = data['job_title'].map(lambda x: x.lower())"
   ]
  },
  {
   "cell_type": "code",
   "execution_count": 12,
   "id": "edede2fe",
   "metadata": {},
   "outputs": [
    {
     "data": {
      "text/html": [
       "<div>\n",
       "<style scoped>\n",
       "    .dataframe tbody tr th:only-of-type {\n",
       "        vertical-align: middle;\n",
       "    }\n",
       "\n",
       "    .dataframe tbody tr th {\n",
       "        vertical-align: top;\n",
       "    }\n",
       "\n",
       "    .dataframe thead th {\n",
       "        text-align: right;\n",
       "    }\n",
       "</style>\n",
       "<table border=\"1\" class=\"dataframe\">\n",
       "  <thead>\n",
       "    <tr style=\"text-align: right;\">\n",
       "      <th></th>\n",
       "      <th>job_title</th>\n",
       "      <th>job_company</th>\n",
       "      <th>job_details</th>\n",
       "      <th>location</th>\n",
       "      <th>experience</th>\n",
       "      <th>salary</th>\n",
       "      <th>min_salary</th>\n",
       "      <th>max_salary</th>\n",
       "    </tr>\n",
       "  </thead>\n",
       "  <tbody>\n",
       "    <tr>\n",
       "      <th>0</th>\n",
       "      <td>it data engineer / data analytics</td>\n",
       "      <td>PT Kawan Lama Sejahtera</td>\n",
       "      <td>[Jakarta, IDR 10.000.000 - 20.000.000, 3 – 5 t...</td>\n",
       "      <td>Jakarta</td>\n",
       "      <td>3 – 5 tahun</td>\n",
       "      <td>[IDR, 10.000.000, -, 20.000.000]</td>\n",
       "      <td>10000000</td>\n",
       "      <td>20000000</td>\n",
       "    </tr>\n",
       "    <tr>\n",
       "      <th>1</th>\n",
       "      <td>data engineer</td>\n",
       "      <td>Mapan - PT Ruma (Rekan Usaha Mikro Anda)</td>\n",
       "      <td>[SCBD, Jakarta, 1 – 3 tahun]</td>\n",
       "      <td>Jakarta</td>\n",
       "      <td>1 – 3 tahun</td>\n",
       "      <td>[]</td>\n",
       "      <td>0</td>\n",
       "      <td>0</td>\n",
       "    </tr>\n",
       "    <tr>\n",
       "      <th>2</th>\n",
       "      <td>business analyst (afees)</td>\n",
       "      <td>AIA Singapore Pte Ltd</td>\n",
       "      <td>[Batam, 3 – 5 tahun]</td>\n",
       "      <td>Batam</td>\n",
       "      <td>3 – 5 tahun</td>\n",
       "      <td>[]</td>\n",
       "      <td>0</td>\n",
       "      <td>0</td>\n",
       "    </tr>\n",
       "    <tr>\n",
       "      <th>3</th>\n",
       "      <td>e-commerce specialist (remote)</td>\n",
       "      <td>Etaily</td>\n",
       "      <td>[Jakarta, Login to view estimated salary by Gl...</td>\n",
       "      <td>Jakarta</td>\n",
       "      <td>3 – 5 tahun</td>\n",
       "      <td>[Login, to, view, estimated, salary, by, Glints.]</td>\n",
       "      <td>0</td>\n",
       "      <td>0</td>\n",
       "    </tr>\n",
       "    <tr>\n",
       "      <th>4</th>\n",
       "      <td>digital marketing manager (remote)</td>\n",
       "      <td>Hepelle</td>\n",
       "      <td>[Jakarta, Login to view estimated salary by Gl...</td>\n",
       "      <td>Jakarta</td>\n",
       "      <td>3 – 5 tahun</td>\n",
       "      <td>[Login, to, view, estimated, salary, by, Glints.]</td>\n",
       "      <td>0</td>\n",
       "      <td>0</td>\n",
       "    </tr>\n",
       "  </tbody>\n",
       "</table>\n",
       "</div>"
      ],
      "text/plain": [
       "                            job_title  \\\n",
       "0   it data engineer / data analytics   \n",
       "1                       data engineer   \n",
       "2            business analyst (afees)   \n",
       "3      e-commerce specialist (remote)   \n",
       "4  digital marketing manager (remote)   \n",
       "\n",
       "                                job_company  \\\n",
       "0                   PT Kawan Lama Sejahtera   \n",
       "1  Mapan - PT Ruma (Rekan Usaha Mikro Anda)   \n",
       "2                     AIA Singapore Pte Ltd   \n",
       "3                                    Etaily   \n",
       "4                                   Hepelle   \n",
       "\n",
       "                                         job_details  location   experience  \\\n",
       "0  [Jakarta, IDR 10.000.000 - 20.000.000, 3 – 5 t...   Jakarta  3 – 5 tahun   \n",
       "1                       [SCBD, Jakarta, 1 – 3 tahun]   Jakarta  1 – 3 tahun   \n",
       "2                               [Batam, 3 – 5 tahun]     Batam  3 – 5 tahun   \n",
       "3  [Jakarta, Login to view estimated salary by Gl...   Jakarta  3 – 5 tahun   \n",
       "4  [Jakarta, Login to view estimated salary by Gl...   Jakarta  3 – 5 tahun   \n",
       "\n",
       "                                              salary  min_salary  max_salary  \n",
       "0                   [IDR, 10.000.000, -, 20.000.000]    10000000    20000000  \n",
       "1                                                 []           0           0  \n",
       "2                                                 []           0           0  \n",
       "3  [Login, to, view, estimated, salary, by, Glints.]           0           0  \n",
       "4  [Login, to, view, estimated, salary, by, Glints.]           0           0  "
      ]
     },
     "execution_count": 12,
     "metadata": {},
     "output_type": "execute_result"
    }
   ],
   "source": [
    "data.head()"
   ]
  },
  {
   "cell_type": "code",
   "execution_count": 13,
   "id": "55f5759f",
   "metadata": {},
   "outputs": [],
   "source": [
    "#specifi experience to minimun experience and conert to int\n",
    "data['min_experience'] = data.experience.map(lambda x: x.split())\n",
    "data['min_experience'] = data['min_experience'].map(lambda x: x[0] if len(x)> 2 else '0')\n",
    "data['min_experience'] = data['min_experience'].replace('Kurang', '0')\n",
    "data['min_experience'] = data['min_experience'].map(lambda x: int(x))"
   ]
  },
  {
   "cell_type": "code",
   "execution_count": 14,
   "id": "d4e61c61",
   "metadata": {},
   "outputs": [
    {
     "data": {
      "text/plain": [
       "(449, 9)"
      ]
     },
     "execution_count": 14,
     "metadata": {},
     "output_type": "execute_result"
    }
   ],
   "source": [
    "data.shape"
   ]
  },
  {
   "cell_type": "code",
   "execution_count": 15,
   "id": "c4d9264c",
   "metadata": {
    "scrolled": true
   },
   "outputs": [
    {
     "data": {
      "text/plain": [
       "array([3, 1, 0, 5], dtype=int64)"
      ]
     },
     "execution_count": 15,
     "metadata": {},
     "output_type": "execute_result"
    }
   ],
   "source": [
    "data.min_experience.unique()"
   ]
  },
  {
   "cell_type": "code",
   "execution_count": 16,
   "id": "c1144a0d",
   "metadata": {
    "scrolled": false
   },
   "outputs": [
    {
     "data": {
      "text/html": [
       "<div>\n",
       "<style scoped>\n",
       "    .dataframe tbody tr th:only-of-type {\n",
       "        vertical-align: middle;\n",
       "    }\n",
       "\n",
       "    .dataframe tbody tr th {\n",
       "        vertical-align: top;\n",
       "    }\n",
       "\n",
       "    .dataframe thead th {\n",
       "        text-align: right;\n",
       "    }\n",
       "</style>\n",
       "<table border=\"1\" class=\"dataframe\">\n",
       "  <thead>\n",
       "    <tr style=\"text-align: right;\">\n",
       "      <th></th>\n",
       "      <th>job_title</th>\n",
       "      <th>job_company</th>\n",
       "      <th>job_details</th>\n",
       "      <th>location</th>\n",
       "      <th>experience</th>\n",
       "      <th>salary</th>\n",
       "      <th>min_salary</th>\n",
       "      <th>max_salary</th>\n",
       "      <th>min_experience</th>\n",
       "    </tr>\n",
       "  </thead>\n",
       "  <tbody>\n",
       "    <tr>\n",
       "      <th>0</th>\n",
       "      <td>it data engineer / data analytics</td>\n",
       "      <td>PT Kawan Lama Sejahtera</td>\n",
       "      <td>[Jakarta, IDR 10.000.000 - 20.000.000, 3 – 5 t...</td>\n",
       "      <td>Jakarta</td>\n",
       "      <td>3 – 5 tahun</td>\n",
       "      <td>[IDR, 10.000.000, -, 20.000.000]</td>\n",
       "      <td>10000000</td>\n",
       "      <td>20000000</td>\n",
       "      <td>3</td>\n",
       "    </tr>\n",
       "    <tr>\n",
       "      <th>1</th>\n",
       "      <td>data engineer</td>\n",
       "      <td>Mapan - PT Ruma (Rekan Usaha Mikro Anda)</td>\n",
       "      <td>[SCBD, Jakarta, 1 – 3 tahun]</td>\n",
       "      <td>Jakarta</td>\n",
       "      <td>1 – 3 tahun</td>\n",
       "      <td>[]</td>\n",
       "      <td>0</td>\n",
       "      <td>0</td>\n",
       "      <td>1</td>\n",
       "    </tr>\n",
       "    <tr>\n",
       "      <th>2</th>\n",
       "      <td>business analyst (afees)</td>\n",
       "      <td>AIA Singapore Pte Ltd</td>\n",
       "      <td>[Batam, 3 – 5 tahun]</td>\n",
       "      <td>Batam</td>\n",
       "      <td>3 – 5 tahun</td>\n",
       "      <td>[]</td>\n",
       "      <td>0</td>\n",
       "      <td>0</td>\n",
       "      <td>3</td>\n",
       "    </tr>\n",
       "    <tr>\n",
       "      <th>3</th>\n",
       "      <td>e-commerce specialist (remote)</td>\n",
       "      <td>Etaily</td>\n",
       "      <td>[Jakarta, Login to view estimated salary by Gl...</td>\n",
       "      <td>Jakarta</td>\n",
       "      <td>3 – 5 tahun</td>\n",
       "      <td>[Login, to, view, estimated, salary, by, Glints.]</td>\n",
       "      <td>0</td>\n",
       "      <td>0</td>\n",
       "      <td>3</td>\n",
       "    </tr>\n",
       "    <tr>\n",
       "      <th>4</th>\n",
       "      <td>digital marketing manager (remote)</td>\n",
       "      <td>Hepelle</td>\n",
       "      <td>[Jakarta, Login to view estimated salary by Gl...</td>\n",
       "      <td>Jakarta</td>\n",
       "      <td>3 – 5 tahun</td>\n",
       "      <td>[Login, to, view, estimated, salary, by, Glints.]</td>\n",
       "      <td>0</td>\n",
       "      <td>0</td>\n",
       "      <td>3</td>\n",
       "    </tr>\n",
       "  </tbody>\n",
       "</table>\n",
       "</div>"
      ],
      "text/plain": [
       "                            job_title  \\\n",
       "0   it data engineer / data analytics   \n",
       "1                       data engineer   \n",
       "2            business analyst (afees)   \n",
       "3      e-commerce specialist (remote)   \n",
       "4  digital marketing manager (remote)   \n",
       "\n",
       "                                job_company  \\\n",
       "0                   PT Kawan Lama Sejahtera   \n",
       "1  Mapan - PT Ruma (Rekan Usaha Mikro Anda)   \n",
       "2                     AIA Singapore Pte Ltd   \n",
       "3                                    Etaily   \n",
       "4                                   Hepelle   \n",
       "\n",
       "                                         job_details  location   experience  \\\n",
       "0  [Jakarta, IDR 10.000.000 - 20.000.000, 3 – 5 t...   Jakarta  3 – 5 tahun   \n",
       "1                       [SCBD, Jakarta, 1 – 3 tahun]   Jakarta  1 – 3 tahun   \n",
       "2                               [Batam, 3 – 5 tahun]     Batam  3 – 5 tahun   \n",
       "3  [Jakarta, Login to view estimated salary by Gl...   Jakarta  3 – 5 tahun   \n",
       "4  [Jakarta, Login to view estimated salary by Gl...   Jakarta  3 – 5 tahun   \n",
       "\n",
       "                                              salary  min_salary  max_salary  \\\n",
       "0                   [IDR, 10.000.000, -, 20.000.000]    10000000    20000000   \n",
       "1                                                 []           0           0   \n",
       "2                                                 []           0           0   \n",
       "3  [Login, to, view, estimated, salary, by, Glints.]           0           0   \n",
       "4  [Login, to, view, estimated, salary, by, Glints.]           0           0   \n",
       "\n",
       "   min_experience  \n",
       "0               3  \n",
       "1               1  \n",
       "2               3  \n",
       "3               3  \n",
       "4               3  "
      ]
     },
     "execution_count": 16,
     "metadata": {},
     "output_type": "execute_result"
    }
   ],
   "source": [
    "data.head()"
   ]
  },
  {
   "cell_type": "code",
   "execution_count": 17,
   "id": "7fac27a7",
   "metadata": {},
   "outputs": [],
   "source": [
    "#replacing job title with specify title, to easy filtering\n",
    "data.loc[data['job_title'].str.contains('data analytic'), 'job_title'] = 'data analytic'\n",
    "data.loc[data['job_title'].str.contains('data analyst'), 'job_title'] = 'data analyst'\n",
    "data.loc[data['job_title'].str.contains('data scientist'), 'job_title'] = 'data scientist'\n",
    "data.loc[data['job_title'].str.contains('data engineer'), 'job_title'] = 'data engineer'\n",
    "data.loc[data['job_title'].str.contains('business analyst'), 'job_title'] = 'business analyst'\n",
    "data.loc[data['job_title'].str.contains('system analyst'), 'job_title'] = 'system analyst '"
   ]
  },
  {
   "cell_type": "code",
   "execution_count": 19,
   "id": "7bce407e",
   "metadata": {},
   "outputs": [
    {
     "data": {
      "text/html": [
       "<div>\n",
       "<style scoped>\n",
       "    .dataframe tbody tr th:only-of-type {\n",
       "        vertical-align: middle;\n",
       "    }\n",
       "\n",
       "    .dataframe tbody tr th {\n",
       "        vertical-align: top;\n",
       "    }\n",
       "\n",
       "    .dataframe thead th {\n",
       "        text-align: right;\n",
       "    }\n",
       "</style>\n",
       "<table border=\"1\" class=\"dataframe\">\n",
       "  <thead>\n",
       "    <tr style=\"text-align: right;\">\n",
       "      <th></th>\n",
       "      <th>job_title</th>\n",
       "      <th>job_company</th>\n",
       "      <th>job_details</th>\n",
       "      <th>location</th>\n",
       "      <th>experience</th>\n",
       "      <th>salary</th>\n",
       "      <th>min_salary</th>\n",
       "      <th>max_salary</th>\n",
       "      <th>min_experience</th>\n",
       "    </tr>\n",
       "  </thead>\n",
       "  <tbody>\n",
       "    <tr>\n",
       "      <th>0</th>\n",
       "      <td>data analytic</td>\n",
       "      <td>PT Kawan Lama Sejahtera</td>\n",
       "      <td>[Jakarta, IDR 10.000.000 - 20.000.000, 3 – 5 t...</td>\n",
       "      <td>Jakarta</td>\n",
       "      <td>3 – 5 tahun</td>\n",
       "      <td>[IDR, 10.000.000, -, 20.000.000]</td>\n",
       "      <td>10000000</td>\n",
       "      <td>20000000</td>\n",
       "      <td>3</td>\n",
       "    </tr>\n",
       "    <tr>\n",
       "      <th>1</th>\n",
       "      <td>data engineer</td>\n",
       "      <td>Mapan - PT Ruma (Rekan Usaha Mikro Anda)</td>\n",
       "      <td>[SCBD, Jakarta, 1 – 3 tahun]</td>\n",
       "      <td>Jakarta</td>\n",
       "      <td>1 – 3 tahun</td>\n",
       "      <td>[]</td>\n",
       "      <td>0</td>\n",
       "      <td>0</td>\n",
       "      <td>1</td>\n",
       "    </tr>\n",
       "    <tr>\n",
       "      <th>2</th>\n",
       "      <td>business analyst</td>\n",
       "      <td>AIA Singapore Pte Ltd</td>\n",
       "      <td>[Batam, 3 – 5 tahun]</td>\n",
       "      <td>Batam</td>\n",
       "      <td>3 – 5 tahun</td>\n",
       "      <td>[]</td>\n",
       "      <td>0</td>\n",
       "      <td>0</td>\n",
       "      <td>3</td>\n",
       "    </tr>\n",
       "    <tr>\n",
       "      <th>3</th>\n",
       "      <td>e-commerce specialist (remote)</td>\n",
       "      <td>Etaily</td>\n",
       "      <td>[Jakarta, Login to view estimated salary by Gl...</td>\n",
       "      <td>Jakarta</td>\n",
       "      <td>3 – 5 tahun</td>\n",
       "      <td>[Login, to, view, estimated, salary, by, Glints.]</td>\n",
       "      <td>0</td>\n",
       "      <td>0</td>\n",
       "      <td>3</td>\n",
       "    </tr>\n",
       "    <tr>\n",
       "      <th>4</th>\n",
       "      <td>digital marketing manager (remote)</td>\n",
       "      <td>Hepelle</td>\n",
       "      <td>[Jakarta, Login to view estimated salary by Gl...</td>\n",
       "      <td>Jakarta</td>\n",
       "      <td>3 – 5 tahun</td>\n",
       "      <td>[Login, to, view, estimated, salary, by, Glints.]</td>\n",
       "      <td>0</td>\n",
       "      <td>0</td>\n",
       "      <td>3</td>\n",
       "    </tr>\n",
       "  </tbody>\n",
       "</table>\n",
       "</div>"
      ],
      "text/plain": [
       "                            job_title  \\\n",
       "0                       data analytic   \n",
       "1                       data engineer   \n",
       "2                    business analyst   \n",
       "3      e-commerce specialist (remote)   \n",
       "4  digital marketing manager (remote)   \n",
       "\n",
       "                                job_company  \\\n",
       "0                   PT Kawan Lama Sejahtera   \n",
       "1  Mapan - PT Ruma (Rekan Usaha Mikro Anda)   \n",
       "2                     AIA Singapore Pte Ltd   \n",
       "3                                    Etaily   \n",
       "4                                   Hepelle   \n",
       "\n",
       "                                         job_details  location   experience  \\\n",
       "0  [Jakarta, IDR 10.000.000 - 20.000.000, 3 – 5 t...   Jakarta  3 – 5 tahun   \n",
       "1                       [SCBD, Jakarta, 1 – 3 tahun]   Jakarta  1 – 3 tahun   \n",
       "2                               [Batam, 3 – 5 tahun]     Batam  3 – 5 tahun   \n",
       "3  [Jakarta, Login to view estimated salary by Gl...   Jakarta  3 – 5 tahun   \n",
       "4  [Jakarta, Login to view estimated salary by Gl...   Jakarta  3 – 5 tahun   \n",
       "\n",
       "                                              salary  min_salary  max_salary  \\\n",
       "0                   [IDR, 10.000.000, -, 20.000.000]    10000000    20000000   \n",
       "1                                                 []           0           0   \n",
       "2                                                 []           0           0   \n",
       "3  [Login, to, view, estimated, salary, by, Glints.]           0           0   \n",
       "4  [Login, to, view, estimated, salary, by, Glints.]           0           0   \n",
       "\n",
       "   min_experience  \n",
       "0               3  \n",
       "1               1  \n",
       "2               3  \n",
       "3               3  \n",
       "4               3  "
      ]
     },
     "execution_count": 19,
     "metadata": {},
     "output_type": "execute_result"
    }
   ],
   "source": [
    "data.head()"
   ]
  },
  {
   "cell_type": "code",
   "execution_count": 20,
   "id": "423216c2",
   "metadata": {
    "scrolled": true
   },
   "outputs": [
    {
     "data": {
      "text/plain": [
       "array(['Jakarta', ' Jakarta', 'Batam', 'Tangerang', 'Surabaya',\n",
       "       'Yogyakarta', 'Semarang', 'Mataram', 'Bandung', 'Depok', 'Senayan',\n",
       "       'Abang', 'Tasikmalaya', 'Denpasar', 'Sleman', 'Serang', 'Bogor',\n",
       "       'Bandar Lampung', 'South Tangerang', 'Kemang', 'Malang', 'Solo',\n",
       "       'Balikpapan', 'Serpong', 'Bekasi'], dtype=object)"
      ]
     },
     "execution_count": 20,
     "metadata": {},
     "output_type": "execute_result"
    }
   ],
   "source": [
    "#checking location data\n",
    "data.location.unique()"
   ]
  },
  {
   "cell_type": "code",
   "execution_count": 21,
   "id": "13f8d6c3",
   "metadata": {},
   "outputs": [],
   "source": [
    "data['location'] = data.location.map(lambda x: x.strip())"
   ]
  },
  {
   "cell_type": "code",
   "execution_count": 22,
   "id": "742aecc3",
   "metadata": {},
   "outputs": [],
   "source": [
    "#here cleaning some data with unsatisfied value\n",
    "data.loc[data['location']=='South Tangerang','location'] = 'Tangerang'\n",
    "data.loc[data['location']=='Kemang','location'] = 'Jakarta'\n",
    "data.loc[data['location']=='Abang','location'] = 'Jakarta'\n",
    "data.loc[data['location']=='Serpong','location'] = 'Jakarta'\n",
    "data.loc[data['location']=='Senayan','location'] = 'Jakarta'"
   ]
  },
  {
   "cell_type": "code",
   "execution_count": 24,
   "id": "c67ed8fb",
   "metadata": {
    "scrolled": true
   },
   "outputs": [
    {
     "data": {
      "text/html": [
       "<div>\n",
       "<style scoped>\n",
       "    .dataframe tbody tr th:only-of-type {\n",
       "        vertical-align: middle;\n",
       "    }\n",
       "\n",
       "    .dataframe tbody tr th {\n",
       "        vertical-align: top;\n",
       "    }\n",
       "\n",
       "    .dataframe thead th {\n",
       "        text-align: right;\n",
       "    }\n",
       "</style>\n",
       "<table border=\"1\" class=\"dataframe\">\n",
       "  <thead>\n",
       "    <tr style=\"text-align: right;\">\n",
       "      <th></th>\n",
       "      <th>job_title</th>\n",
       "      <th>job_company</th>\n",
       "      <th>job_details</th>\n",
       "      <th>location</th>\n",
       "      <th>experience</th>\n",
       "      <th>salary</th>\n",
       "      <th>min_salary</th>\n",
       "      <th>max_salary</th>\n",
       "      <th>min_experience</th>\n",
       "    </tr>\n",
       "  </thead>\n",
       "  <tbody>\n",
       "    <tr>\n",
       "      <th>0</th>\n",
       "      <td>data analytic</td>\n",
       "      <td>PT Kawan Lama Sejahtera</td>\n",
       "      <td>[Jakarta, IDR 10.000.000 - 20.000.000, 3 – 5 t...</td>\n",
       "      <td>Jakarta</td>\n",
       "      <td>3 – 5 tahun</td>\n",
       "      <td>[IDR, 10.000.000, -, 20.000.000]</td>\n",
       "      <td>10000000</td>\n",
       "      <td>20000000</td>\n",
       "      <td>3</td>\n",
       "    </tr>\n",
       "    <tr>\n",
       "      <th>1</th>\n",
       "      <td>data engineer</td>\n",
       "      <td>Mapan - PT Ruma (Rekan Usaha Mikro Anda)</td>\n",
       "      <td>[SCBD, Jakarta, 1 – 3 tahun]</td>\n",
       "      <td>Jakarta</td>\n",
       "      <td>1 – 3 tahun</td>\n",
       "      <td>[]</td>\n",
       "      <td>0</td>\n",
       "      <td>0</td>\n",
       "      <td>1</td>\n",
       "    </tr>\n",
       "    <tr>\n",
       "      <th>2</th>\n",
       "      <td>business analyst</td>\n",
       "      <td>AIA Singapore Pte Ltd</td>\n",
       "      <td>[Batam, 3 – 5 tahun]</td>\n",
       "      <td>Batam</td>\n",
       "      <td>3 – 5 tahun</td>\n",
       "      <td>[]</td>\n",
       "      <td>0</td>\n",
       "      <td>0</td>\n",
       "      <td>3</td>\n",
       "    </tr>\n",
       "    <tr>\n",
       "      <th>3</th>\n",
       "      <td>e-commerce specialist (remote)</td>\n",
       "      <td>Etaily</td>\n",
       "      <td>[Jakarta, Login to view estimated salary by Gl...</td>\n",
       "      <td>Jakarta</td>\n",
       "      <td>3 – 5 tahun</td>\n",
       "      <td>[Login, to, view, estimated, salary, by, Glints.]</td>\n",
       "      <td>0</td>\n",
       "      <td>0</td>\n",
       "      <td>3</td>\n",
       "    </tr>\n",
       "    <tr>\n",
       "      <th>4</th>\n",
       "      <td>digital marketing manager (remote)</td>\n",
       "      <td>Hepelle</td>\n",
       "      <td>[Jakarta, Login to view estimated salary by Gl...</td>\n",
       "      <td>Jakarta</td>\n",
       "      <td>3 – 5 tahun</td>\n",
       "      <td>[Login, to, view, estimated, salary, by, Glints.]</td>\n",
       "      <td>0</td>\n",
       "      <td>0</td>\n",
       "      <td>3</td>\n",
       "    </tr>\n",
       "  </tbody>\n",
       "</table>\n",
       "</div>"
      ],
      "text/plain": [
       "                            job_title  \\\n",
       "0                       data analytic   \n",
       "1                       data engineer   \n",
       "2                    business analyst   \n",
       "3      e-commerce specialist (remote)   \n",
       "4  digital marketing manager (remote)   \n",
       "\n",
       "                                job_company  \\\n",
       "0                   PT Kawan Lama Sejahtera   \n",
       "1  Mapan - PT Ruma (Rekan Usaha Mikro Anda)   \n",
       "2                     AIA Singapore Pte Ltd   \n",
       "3                                    Etaily   \n",
       "4                                   Hepelle   \n",
       "\n",
       "                                         job_details location   experience  \\\n",
       "0  [Jakarta, IDR 10.000.000 - 20.000.000, 3 – 5 t...  Jakarta  3 – 5 tahun   \n",
       "1                       [SCBD, Jakarta, 1 – 3 tahun]  Jakarta  1 – 3 tahun   \n",
       "2                               [Batam, 3 – 5 tahun]    Batam  3 – 5 tahun   \n",
       "3  [Jakarta, Login to view estimated salary by Gl...  Jakarta  3 – 5 tahun   \n",
       "4  [Jakarta, Login to view estimated salary by Gl...  Jakarta  3 – 5 tahun   \n",
       "\n",
       "                                              salary  min_salary  max_salary  \\\n",
       "0                   [IDR, 10.000.000, -, 20.000.000]    10000000    20000000   \n",
       "1                                                 []           0           0   \n",
       "2                                                 []           0           0   \n",
       "3  [Login, to, view, estimated, salary, by, Glints.]           0           0   \n",
       "4  [Login, to, view, estimated, salary, by, Glints.]           0           0   \n",
       "\n",
       "   min_experience  \n",
       "0               3  \n",
       "1               1  \n",
       "2               3  \n",
       "3               3  \n",
       "4               3  "
      ]
     },
     "execution_count": 24,
     "metadata": {},
     "output_type": "execute_result"
    }
   ],
   "source": [
    "data.head()"
   ]
  },
  {
   "cell_type": "code",
   "execution_count": 26,
   "id": "95482772",
   "metadata": {},
   "outputs": [],
   "source": [
    "#saving data to csv, to process in Tableau\n",
    "data.to_csv(\"data_webscrape.csv\")"
   ]
  }
 ],
 "metadata": {
  "kernelspec": {
   "display_name": "Python 3 (ipykernel)",
   "language": "python",
   "name": "python3"
  },
  "language_info": {
   "codemirror_mode": {
    "name": "ipython",
    "version": 3
   },
   "file_extension": ".py",
   "mimetype": "text/x-python",
   "name": "python",
   "nbconvert_exporter": "python",
   "pygments_lexer": "ipython3",
   "version": "3.9.7"
  }
 },
 "nbformat": 4,
 "nbformat_minor": 5
}
